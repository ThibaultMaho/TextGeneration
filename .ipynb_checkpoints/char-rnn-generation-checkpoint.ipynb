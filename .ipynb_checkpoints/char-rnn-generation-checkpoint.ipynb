{
 "cells": [
  {
   "cell_type": "code",
   "execution_count": 2,
   "metadata": {},
   "outputs": [],
   "source": [
    "import random\n",
    "import re\n",
    "import numpy as np\n",
    "import tqdm\n",
    "import time\n",
    "import pexpect\n",
    "import string\n",
    "import json"
   ]
  },
  {
   "cell_type": "code",
   "execution_count": 3,
   "metadata": {},
   "outputs": [],
   "source": [
    "punctuation = string.punctuation"
   ]
  },
  {
   "cell_type": "markdown",
   "metadata": {},
   "source": [
    "# Cleaning Function"
   ]
  },
  {
   "cell_type": "code",
   "execution_count": 4,
   "metadata": {},
   "outputs": [],
   "source": [
    "def merge_spaces(text):\n",
    "    text = re.sub(\"\\s{2,}\", \" \", text)\n",
    "    return text.strip()"
   ]
  },
  {
   "cell_type": "code",
   "execution_count": 5,
   "metadata": {},
   "outputs": [],
   "source": [
    "def remove_punctuation(text):\n",
    "    for p in punctuation:\n",
    "        text = text.replace(p, \" \")\n",
    "    return text"
   ]
  },
  {
   "cell_type": "code",
   "execution_count": 6,
   "metadata": {},
   "outputs": [],
   "source": [
    "def clean_data(text):\n",
    "    text = remove_punctuation(text)\n",
    "    text = merge_spaces(text)\n",
    "    text = text.lower()\n",
    "    return text"
   ]
  },
  {
   "cell_type": "markdown",
   "metadata": {},
   "source": [
    "# Load Data"
   ]
  },
  {
   "cell_type": "markdown",
   "metadata": {},
   "source": [
    "To simplify our lives we remove everything thanks a code from https://stackoverflow.com/questions/517923/what-is-the-best-way-to-remove-accents-in-a-python-unicode-string"
   ]
  },
  {
   "cell_type": "code",
   "execution_count": 7,
   "metadata": {},
   "outputs": [],
   "source": [
    "import unicodedata"
   ]
  },
  {
   "cell_type": "code",
   "execution_count": 8,
   "metadata": {},
   "outputs": [],
   "source": [
    "def strip_accents(s):\n",
    "    return ''.join(c for c in unicodedata.normalize('NFD', s)\n",
    "                   if unicodedata.category(c) != 'Mn')"
   ]
  },
  {
   "cell_type": "code",
   "execution_count": 9,
   "metadata": {},
   "outputs": [],
   "source": [
    "#data_file = \"./data/sherlock/input.txt\"\n",
    "#data_file = \"./data/names/French.txt\"\n",
    "#data_file = \"./data/shakespear.txt\"\n",
    "#data_file = \"./data/french_debats.txt\"\n",
    "data_file = \"./data/kaamelot/input.txt\""
   ]
  },
  {
   "cell_type": "code",
   "execution_count": 10,
   "metadata": {},
   "outputs": [],
   "source": [
    "data_text = []\n",
    "with open(data_file, \"r\") as f:\n",
    "    for line in f:\n",
    "        line = line.replace(\"\\n\", \"\").strip()\n",
    "        if len(line) > 0:\n",
    "            data_text.append(line)\n",
    "        \"\"\"\n",
    "            data_text.append(clean_data(line))\n",
    "        \"\"\""
   ]
  },
  {
   "cell_type": "code",
   "execution_count": 11,
   "metadata": {},
   "outputs": [
    {
     "name": "stdout",
     "output_type": "stream",
     "text": [
      "Length of Data: 520 \n",
      "\n",
      "Random Text: Arthur : Bon, ben alors, OK, on reprend depuis le début ; donc, Calogrenant est posté depuis hier soir au Nord-Est de la zone d’attaque…\n"
     ]
    }
   ],
   "source": [
    "print(\"Length of Data: {} \\n\".format(len(data_text)))\n",
    "print(\"Random Text: {}\".format(data_text[random.randint(0, len(data_text))]))"
   ]
  },
  {
   "cell_type": "markdown",
   "metadata": {},
   "source": [
    "## Words to Vectors\n",
    "\n",
    "To feed any Neural Network, we need vectors.\n",
    "\n",
    "An Embedding Module is available on [Pytorch](http://pytorch.org/docs/master/nn.html#sparse-layers).\n",
    "\n",
    "Here, I decided to encode by myself characters. To do this, I use [one-hot-encoding](https://hackernoon.com/what-is-one-hot-encoding-why-and-when-do-you-have-to-use-it-e3c6186d008f). \n",
    "To be quick, the main goal is to transform each character to a vector made of 0 except a 1."
   ]
  },
  {
   "cell_type": "code",
   "execution_count": 12,
   "metadata": {},
   "outputs": [],
   "source": [
    "import torch\n",
    "import torch.nn as nn\n",
    "from torch.autograd import Variable"
   ]
  },
  {
   "cell_type": "markdown",
   "metadata": {},
   "source": [
    "We start by getting all characters that are in the text loaded.\n",
    "\n",
    "It can be assumed that for a sufficient amount of text, all characters will be present."
   ]
  },
  {
   "cell_type": "code",
   "execution_count": 13,
   "metadata": {},
   "outputs": [],
   "source": [
    "def GetAllCharacters(list_text: list):\n",
    "    text = ''.join(list_text)\n",
    "    return list(set(text))"
   ]
  },
  {
   "cell_type": "code",
   "execution_count": 14,
   "metadata": {},
   "outputs": [],
   "source": [
    "data_text_join = \"\\n\".join(data_text)"
   ]
  },
  {
   "cell_type": "code",
   "execution_count": 15,
   "metadata": {
    "scrolled": true
   },
   "outputs": [
    {
     "name": "stdout",
     "output_type": "stream",
     "text": [
      "94 characters\n"
     ]
    }
   ],
   "source": [
    "list_characters = GetAllCharacters(data_text_join)\n",
    "n_characters = len(list_characters)\n",
    "print(\"{} characters\".format(n_characters))"
   ]
  },
  {
   "cell_type": "markdown",
   "metadata": {},
   "source": [
    "### Get Data"
   ]
  },
  {
   "cell_type": "code",
   "execution_count": 16,
   "metadata": {},
   "outputs": [],
   "source": [
    "chunk_len = 100"
   ]
  },
  {
   "cell_type": "markdown",
   "metadata": {},
   "source": [
    "We get the biggest sentence. It will be the maximum size, for the smallest sentence, we will pad by adding padding element."
   ]
  },
  {
   "cell_type": "code",
   "execution_count": 17,
   "metadata": {},
   "outputs": [],
   "source": [
    "def random_chunk():\n",
    "    start_index = random.randint(0, len(data_text_join) - chunk_len - 1)\n",
    "    end_index = start_index + chunk_len + 1\n",
    "    return data_text_join[start_index:end_index]"
   ]
  },
  {
   "cell_type": "code",
   "execution_count": 18,
   "metadata": {},
   "outputs": [
    {
     "name": "stdout",
     "output_type": "stream",
     "text": [
      " et puis c'est parti en vrille.\n",
      "Arthur : Vous voulez que je l'oblige à vous accueillir ?\n",
      "Perceval : Ç\n"
     ]
    }
   ],
   "source": [
    "print(random_chunk())"
   ]
  },
  {
   "cell_type": "code",
   "execution_count": 19,
   "metadata": {},
   "outputs": [],
   "source": [
    "def GetIndexCharacter(c):\n",
    "    if c not in list_characters:\n",
    "        c = \" \"\n",
    "    return list_characters.index(c)"
   ]
  },
  {
   "cell_type": "code",
   "execution_count": 20,
   "metadata": {},
   "outputs": [],
   "source": [
    "def text_to_character_index_tensor(text):\n",
    "    tensor = torch.zeros(len(text)).long()\n",
    "    for i, c in enumerate(text):\n",
    "        tensor[i] = GetIndexCharacter(c)\n",
    "    return Variable(tensor)"
   ]
  },
  {
   "cell_type": "markdown",
   "metadata": {},
   "source": [
    "## Get Input\n",
    "\n",
    "The RNN will have to predict the next character.\n",
    "In input, it will get a one-hot tensor as explanied above.\n",
    "As output, it will returned a probability for each character, that is to say a tensor of size 1 x n_characters.\n",
    "\n",
    "This output will be compared to the index expected."
   ]
  },
  {
   "cell_type": "code",
   "execution_count": 21,
   "metadata": {},
   "outputs": [],
   "source": [
    "def TextToInput(text):\n",
    "    y = text_to_character_index_tensor(text[1:])\n",
    "    x = text_to_character_index_tensor(text[:-1])\n",
    "    return x, y"
   ]
  },
  {
   "cell_type": "code",
   "execution_count": 22,
   "metadata": {},
   "outputs": [],
   "source": [
    "n_element = 500"
   ]
  },
  {
   "cell_type": "code",
   "execution_count": 23,
   "metadata": {
    "scrolled": true
   },
   "outputs": [
    {
     "name": "stderr",
     "output_type": "stream",
     "text": [
      "100%|██████████| 500/500 [00:00<00:00, 2102.09it/s]\n"
     ]
    }
   ],
   "source": [
    "data_vectors = []\n",
    "for i in tqdm.tqdm(range(n_element)):\n",
    "    text = random_chunk()\n",
    "    x, y = TextToInput(text)\n",
    "    data_vectors.append({\n",
    "        'index_text': i,\n",
    "        'x': x,\n",
    "        'y': y\n",
    "    })"
   ]
  },
  {
   "cell_type": "code",
   "execution_count": 24,
   "metadata": {},
   "outputs": [
    {
     "name": "stdout",
     "output_type": "stream",
     "text": [
      " par Alexandre Astier.\n",
      "Léodagan : Dites, j’me demandais, là… Il est venu, Ketchatar ?\n",
      "Arthur : Il es\n"
     ]
    }
   ],
   "source": [
    "t = \"\"\n",
    "for elem in data_vectors[20][\"x\"]:\n",
    "    #values, indices = torch.max(elem, 0)\n",
    "    t += list_characters[int(elem.data.tolist()[0])]\n",
    "print(t)"
   ]
  },
  {
   "cell_type": "markdown",
   "metadata": {},
   "source": [
    "## Our Class Model"
   ]
  },
  {
   "cell_type": "code",
   "execution_count": 25,
   "metadata": {},
   "outputs": [],
   "source": [
    "class RNN(nn.Module):\n",
    "    def __init__(self, \n",
    "                 input_size, \n",
    "                 hidden_size, \n",
    "                 output_size, \n",
    "                 num_layers=1,\n",
    "                 bidirectional=False,\n",
    "                 model_type=\"RNN\",\n",
    "                 dropout=0.2):\n",
    "        \n",
    "        super(RNN, self).__init__()\n",
    "        self.input_size = input_size\n",
    "        self.hidden_size = hidden_size\n",
    "        self.output_size = output_size\n",
    "        self.num_layers = num_layers\n",
    "        self.bidirectional = bidirectional\n",
    "        self.model_type = model_type\n",
    "        self.dropout = dropout\n",
    "        \n",
    "        self.encoder = nn.Embedding(input_size, hidden_size)\n",
    "        self.rnn = getattr(nn, model_type)(hidden_size, \n",
    "                                           hidden_size, \n",
    "                                           num_layers=num_layers,\n",
    "                                           dropout=dropout,\n",
    "                                           bidirectional=bidirectional,\n",
    "                                           batch_first=True)\n",
    "        \n",
    "        self.decoder = nn.Linear(hidden_size * (int(bidirectional) + 1), output_size)\n",
    "    \n",
    "    def forward(self, x, hidden):\n",
    "        x = self.encoder(x)\n",
    "        output, hidden = self.rnn(x, hidden)\n",
    "        output = self.decoder(output)\n",
    "        return output, hidden\n",
    "\n",
    "    def init_hidden(self, batch):\n",
    "        return Variable(torch.zeros(self.num_layers * (int(self.bidirectional) + 1), batch, self.hidden_size))"
   ]
  },
  {
   "cell_type": "markdown",
   "metadata": {},
   "source": [
    "## Functions Training"
   ]
  },
  {
   "cell_type": "markdown",
   "metadata": {},
   "source": [
    "The accuracy here is if the next character predicted is the sma eas expected"
   ]
  },
  {
   "cell_type": "code",
   "execution_count": 57,
   "metadata": {},
   "outputs": [],
   "source": [
    "def get_accuracy(y, y_pred):\n",
    "    accurate = 0\n",
    "    for i, o in enumerate(y_pred.squeeze(0).data.numpy()):\n",
    "        if np.where(o == max(o))[0][0] == y.data[i]:\n",
    "            accurate += 1\n",
    "    return accurate / y.size()[0]"
   ]
  },
  {
   "cell_type": "markdown",
   "metadata": {},
   "source": [
    "## Generate Words"
   ]
  },
  {
   "cell_type": "code",
   "execution_count": 78,
   "metadata": {},
   "outputs": [],
   "source": [
    "def generate(prime_str='A', predict_len=100, temperature=0.6):\n",
    "    hidden = rnn.init_hidden(1)\n",
    "    prime_input, _ = TextToInput(prime_str)\n",
    "    predicted = prime_str\n",
    "\n",
    "    # Use priming string to \"build up\" hidden state\n",
    "    for p in range(len(prime_str) - 1):\n",
    "        _, hidden = rnn(prime_input[p].view(1, -1), hidden)\n",
    "    inp = prime_input\n",
    "    \n",
    "    for p in range(predict_len):\n",
    "        hidden = rnn.init_hidden(1)\n",
    "        output, hidden = rnn(inp.view(1, -1), hidden)\n",
    "        last_char = output.squeeze(0)[-1].data.numpy()\n",
    "        #top_i = np.where(last_char == max(last_char))[0][0]\n",
    "        # Sample from the network as a multinomial distribution\n",
    "        output_dist = output.squeeze(0)[-1].div(temperature).exp()\n",
    "        top_i = torch.multinomial(output_dist, 1)[0]\n",
    "        \n",
    "        # Add predicted character to string and use as next input\n",
    "        predicted_char = list_characters[top_i]\n",
    "        predicted += predicted_char\n",
    "        inp = text_to_character_index_tensor(predicted[-20:])\n",
    "    return predicted"
   ]
  },
  {
   "cell_type": "markdown",
   "metadata": {},
   "source": [
    "# Training"
   ]
  },
  {
   "cell_type": "markdown",
   "metadata": {},
   "source": [
    "Plot and Generation are saved and [Tensorboard](https://github.com/lanpa/tensorboard-pytorch) Writer. It gathered all the information and the Grpah model.\n",
    "\n",
    "To run it:\n",
    "* Install TensorboadX (Tensorboard for Pytorch): pip install tensorboardX\n",
    "* Run the folder where you saved your tensorboad (here runs): tensorboard --logdir runs\n",
    "* Open your local port 6006 (Tip: 6006 --> GOOG for Google because, it's originally a Tensorflow tool ;) )"
   ]
  },
  {
   "cell_type": "code",
   "execution_count": 74,
   "metadata": {},
   "outputs": [],
   "source": [
    "from tensorboardX import SummaryWriter"
   ]
  },
  {
   "cell_type": "code",
   "execution_count": 80,
   "metadata": {},
   "outputs": [],
   "source": [
    "rnn = RNN(input_size=n_characters, \n",
    "          hidden_size=100, \n",
    "          output_size=n_characters, \n",
    "          num_layers=1,\n",
    "          bidirectional=True,\n",
    "          model_type=\"RNN\",\n",
    "          dropout=0.2)"
   ]
  },
  {
   "cell_type": "code",
   "execution_count": 81,
   "metadata": {},
   "outputs": [
    {
     "data": {
      "text/plain": [
       "<bound method RNN.parameters of RNN(\n",
       "  (encoder): Embedding(94, 100)\n",
       "  (rnn): RNN(100, 100, batch_first=True, dropout=0.2, bidirectional=True)\n",
       "  (decoder): Linear(in_features=200, out_features=94, bias=True)\n",
       ")>"
      ]
     },
     "execution_count": 81,
     "metadata": {},
     "output_type": "execute_result"
    }
   ],
   "source": [
    "rnn.parameters"
   ]
  },
  {
   "cell_type": "markdown",
   "metadata": {},
   "source": [
    "Let's Go !!! RUN !!!!!"
   ]
  },
  {
   "cell_type": "code",
   "execution_count": 82,
   "metadata": {
    "scrolled": true
   },
   "outputs": [
    {
     "name": "stderr",
     "output_type": "stream",
     "text": [
      "\n",
      "0it [00:00, ?it/s]\u001b[A\n",
      "2it [00:00, 18.75it/s]\u001b[A\n",
      "4it [00:00, 19.06it/s]\u001b[A\n",
      "6it [00:00, 19.26it/s]\u001b[A\n",
      "9it [00:00, 19.56it/s]\u001b[A\n",
      "11it [00:00, 18.69it/s]\u001b[A\n",
      "13it [00:00, 17.73it/s]\u001b[A\n",
      "15it [00:00, 17.82it/s]\u001b[A\n",
      "17it [00:00, 17.81it/s]\u001b[A\n",
      "19it [00:01, 17.63it/s]\u001b[A\n",
      "21it [00:01, 17.41it/s]\u001b[A\n",
      "23it [00:01, 17.62it/s]\u001b[A\n",
      "25it [00:01, 17.79it/s]\u001b[A\n",
      "27it [00:01, 16.78it/s]\u001b[A\n",
      "29it [00:01, 17.59it/s]\u001b[A\n",
      "31it [00:01, 18.13it/s]\u001b[A\n",
      "33it [00:01, 17.55it/s]\u001b[A\n",
      "35it [00:01, 17.24it/s]\u001b[A\n",
      "37it [00:02, 16.34it/s]\u001b[A\n",
      "39it [00:02, 16.99it/s]\u001b[A\n",
      "41it [00:02, 16.92it/s]\u001b[A\n",
      "44it [00:02, 17.88it/s]\u001b[A\n",
      "46it [00:02, 18.15it/s]\u001b[A\n",
      "48it [00:02, 18.25it/s]\u001b[A\n",
      "51it [00:02, 18.48it/s]\u001b[A\n",
      "54it [00:02, 19.13it/s]\u001b[A\n",
      "56it [00:03, 18.60it/s]\u001b[A\n",
      "58it [00:03, 18.02it/s]\u001b[A\n",
      "60it [00:03, 18.35it/s]\u001b[A\n",
      "62it [00:03, 17.70it/s]\u001b[A\n",
      "64it [00:03, 18.23it/s]\u001b[A\n",
      "66it [00:03, 17.51it/s]\u001b[A\n",
      "68it [00:03, 18.02it/s]\u001b[A\n",
      "350it [00:30, 11.67it/s][A\n",
      "500it [00:26, 19.50it/s]\n"
     ]
    },
    {
     "name": "stdout",
     "output_type": "stream",
     "text": [
      "Epochs: 0\n"
     ]
    },
    {
     "name": "stderr",
     "output_type": "stream",
     "text": [
      "500it [00:24, 20.04it/s]\n"
     ]
    },
    {
     "name": "stdout",
     "output_type": "stream",
     "text": [
      "Epochs: 1\n"
     ]
    },
    {
     "name": "stderr",
     "output_type": "stream",
     "text": [
      "500it [00:26, 19.02it/s]\n"
     ]
    },
    {
     "name": "stdout",
     "output_type": "stream",
     "text": [
      "Epochs: 2\n"
     ]
    },
    {
     "name": "stderr",
     "output_type": "stream",
     "text": [
      "500it [00:25, 19.64it/s]\n"
     ]
    },
    {
     "name": "stdout",
     "output_type": "stream",
     "text": [
      "Epochs: 3\n"
     ]
    },
    {
     "name": "stderr",
     "output_type": "stream",
     "text": [
      "500it [00:25, 19.35it/s]\n"
     ]
    },
    {
     "name": "stdout",
     "output_type": "stream",
     "text": [
      "Epochs: 4\n"
     ]
    },
    {
     "name": "stderr",
     "output_type": "stream",
     "text": [
      "500it [00:25, 19.84it/s]\n"
     ]
    },
    {
     "name": "stdout",
     "output_type": "stream",
     "text": [
      "Epochs: 5\n"
     ]
    },
    {
     "name": "stderr",
     "output_type": "stream",
     "text": [
      "500it [00:24, 21.09it/s]\n"
     ]
    },
    {
     "name": "stdout",
     "output_type": "stream",
     "text": [
      "Epochs: 6\n"
     ]
    },
    {
     "name": "stderr",
     "output_type": "stream",
     "text": [
      "500it [00:25, 20.31it/s]\n"
     ]
    },
    {
     "name": "stdout",
     "output_type": "stream",
     "text": [
      "Epochs: 7\n"
     ]
    },
    {
     "name": "stderr",
     "output_type": "stream",
     "text": [
      "500it [00:24, 20.69it/s]\n"
     ]
    },
    {
     "name": "stdout",
     "output_type": "stream",
     "text": [
      "Epochs: 8\n"
     ]
    },
    {
     "name": "stderr",
     "output_type": "stream",
     "text": [
      "500it [00:24, 20.79it/s]\n"
     ]
    },
    {
     "name": "stdout",
     "output_type": "stream",
     "text": [
      "Epochs: 9\n"
     ]
    }
   ],
   "source": [
    "n_epochs = 10\n",
    "update_loss_every = 50\n",
    "print_every = 50\n",
    "\n",
    "all_losses = []\n",
    "all_accuracy = []\n",
    "loss_avg = 0\n",
    "lr = 0.001\n",
    "writer = SummaryWriter()\n",
    "writer.add_graph(rnn, Variable(torch.zeros(1, chunk_len).long()))\n",
    "optimizer = torch.optim.Adam(rnn.parameters(), lr=lr)\n",
    "criterion = nn.CrossEntropyLoss()\n",
    "list_random = list(np.random.randint(0, len(data_vectors), n_epochs))\n",
    "\n",
    "for epoch in range(0, n_epochs):\n",
    "    for i, elem in tqdm.tqdm(enumerate(data_vectors)):\n",
    "        x = elem[\"x\"]\n",
    "        y = elem[\"y\"]\n",
    "\n",
    "        optimizer.zero_grad()\n",
    "        hidden = rnn.init_hidden(1)\n",
    "        output, hidden = rnn(x.view(1, -1), hidden)\n",
    "        all_accuracy.append(get_accuracy(y, output.squeeze(0)))\n",
    "        loss = criterion(output.squeeze(0), y)\n",
    "\n",
    "        loss.backward()\n",
    "        optimizer.step()\n",
    "        all_losses.append(loss.data[0])\n",
    "    writer.add_scalar('loss', np.mean(all_losses[-len(data_vectors):]), epoch)\n",
    "    writer.add_scalar('accuracy', np.mean(all_accuracy[-len(data_vectors):]), epoch)\n",
    "    print('Epochs: {}'.format(epoch))\n",
    "    writer.add_text('Generation ' + str(epoch), generate('Arthur', 300, 0.6).encode(\"ascii\", \"ignore\").decode(\"ascii\"), epoch)\n",
    "    writer.add_text('Generation ' + str(epoch), generate('Perceval', 300, 0.6).encode(\"ascii\", \"ignore\").decode(\"ascii\"), epoch)\n",
    "    writer.add_text('Generation ' + str(epoch), generate('Leod', 300, 0.6).encode(\"ascii\", \"ignore\").decode(\"ascii\"), epoch)\n",
    "writer.close()"
   ]
  },
  {
   "cell_type": "code",
   "execution_count": null,
   "metadata": {},
   "outputs": [],
   "source": []
  }
 ],
 "metadata": {
  "anaconda-cloud": {},
  "kernelspec": {
   "display_name": "Python 3",
   "language": "python",
   "name": "python3"
  },
  "language_info": {
   "codemirror_mode": {
    "name": "ipython",
    "version": 3
   },
   "file_extension": ".py",
   "mimetype": "text/x-python",
   "name": "python",
   "nbconvert_exporter": "python",
   "pygments_lexer": "ipython3",
   "version": "3.4.3"
  }
 },
 "nbformat": 4,
 "nbformat_minor": 1
}
