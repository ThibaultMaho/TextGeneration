{
 "cells": [
  {
   "cell_type": "code",
   "execution_count": null,
   "metadata": {},
   "outputs": [],
   "source": [
    "import random\n",
    "import re\n",
    "import numpy as np\n",
    "import tqdm"
   ]
  },
  {
   "cell_type": "markdown",
   "metadata": {},
   "source": [
    "# Load Data"
   ]
  },
  {
   "cell_type": "markdown",
   "metadata": {},
   "source": [
    "To simplify our lives we remove everything thanks a code from https://stackoverflow.com/questions/517923/what-is-the-best-way-to-remove-accents-in-a-python-unicode-string"
   ]
  },
  {
   "cell_type": "code",
   "execution_count": null,
   "metadata": {},
   "outputs": [],
   "source": [
    "import unicodedata"
   ]
  },
  {
   "cell_type": "code",
   "execution_count": null,
   "metadata": {},
   "outputs": [],
   "source": [
    "def strip_accents(s):\n",
    "    return ''.join(c for c in unicodedata.normalize('NFD', s)\n",
    "                   if unicodedata.category(c) != 'Mn')"
   ]
  },
  {
   "cell_type": "code",
   "execution_count": null,
   "metadata": {},
   "outputs": [],
   "source": [
    "#data_file = \"./data/sherlock/input.txt\"\n",
    "data_file = \"./data/names/French.txt\""
   ]
  },
  {
   "cell_type": "code",
   "execution_count": null,
   "metadata": {},
   "outputs": [],
   "source": [
    "data_text = []\n",
    "with open(data_file, \"r\") as f:\n",
    "    for line in f:\n",
    "        line = line.replace(\"\\n\", \"\").strip()\n",
    "        if len(line) > 0:\n",
    "            data_text.append(line)"
   ]
  },
  {
   "cell_type": "code",
   "execution_count": null,
   "metadata": {},
   "outputs": [],
   "source": [
    "print(\"Length of Data: {} \\n\".format(len(data_text)))\n",
    "print(\"Random Text: {}\".format(data_text[random.randint(0, len(data_text))]))"
   ]
  },
  {
   "cell_type": "markdown",
   "metadata": {},
   "source": [
    "## Words to Vectors\n",
    "\n",
    "To feed any Neural Network, we need vectors.\n",
    "\n",
    "An Embedding Module is available on [Pytorch](http://pytorch.org/docs/master/nn.html#sparse-layers).\n",
    "\n",
    "Here, I decided to encode by myself characters. To do this, I use [one-hot-encoding](https://hackernoon.com/what-is-one-hot-encoding-why-and-when-do-you-have-to-use-it-e3c6186d008f). \n",
    "To be quick, the main goal is to transform each character to a vector made of 0 except a 1."
   ]
  },
  {
   "cell_type": "code",
   "execution_count": null,
   "metadata": {},
   "outputs": [],
   "source": [
    "import torch\n",
    "import torch.nn as nn\n",
    "from torch.autograd import Variable\n",
    "from torch.utils.data import DataLoader, TensorDataset"
   ]
  },
  {
   "cell_type": "markdown",
   "metadata": {},
   "source": [
    "We start by getting all characters that are in the text loaded.\n",
    "\n",
    "It can be assumed that for a sufficient amount of text, all characters will be present."
   ]
  },
  {
   "cell_type": "code",
   "execution_count": null,
   "metadata": {},
   "outputs": [],
   "source": [
    "def GetAllCharacters(list_text: list):\n",
    "    text = ''.join(list_text)\n",
    "    return list(set(text))"
   ]
  },
  {
   "cell_type": "markdown",
   "metadata": {},
   "source": [
    "We add a *End of String* element. It have to tell when to stop"
   ]
  },
  {
   "cell_type": "code",
   "execution_count": null,
   "metadata": {},
   "outputs": [],
   "source": [
    "EOS = \"EOS\""
   ]
  },
  {
   "cell_type": "code",
   "execution_count": null,
   "metadata": {},
   "outputs": [],
   "source": [
    "list_characters = GetAllCharacters(data_text) + [EOS]\n",
    "n_characters = len(list_characters)\n",
    "print(\"{} characters\".format(n_characters))"
   ]
  },
  {
   "cell_type": "code",
   "execution_count": null,
   "metadata": {},
   "outputs": [],
   "source": [
    "def GetIndexCharacter(c):\n",
    "    if c not in list_characters:\n",
    "        raise ValueError(\"{} is not a character available !\".format(c))\n",
    "    return list_characters.index(c)"
   ]
  },
  {
   "cell_type": "code",
   "execution_count": null,
   "metadata": {},
   "outputs": [],
   "source": [
    "def text_to_one_hot_vector(text):\n",
    "    zeros_vectors = [0] * n_characters\n",
    "    text_vector = []\n",
    "    for i, c in enumerate(text[:max_length]):\n",
    "        v = zeros_vectors\n",
    "        v[GetIndexCharacter(c)] = 1\n",
    "        text_vector.append(v)\n",
    "    return text_vector"
   ]
  },
  {
   "cell_type": "markdown",
   "metadata": {},
   "source": [
    "## Get Input\n",
    "\n",
    "The RNN will have to predict the next character.\n",
    "In input, it will get a one-hot tensor as explanied above.\n",
    "As output, it will returned a probability for each character, that is to say a tensor of size 1 x n_characters.\n",
    "\n",
    "This output will be compared to the index expected."
   ]
  },
  {
   "cell_type": "code",
   "execution_count": null,
   "metadata": {},
   "outputs": [],
   "source": [
    "max_length = 500"
   ]
  },
  {
   "cell_type": "code",
   "execution_count": null,
   "metadata": {},
   "outputs": [],
   "source": [
    "def text_to_input(text, zero_padding=True):\n",
    "    y = []\n",
    "    # We start to 1 because the first character is not predicted\n",
    "    for c in text[1:max_length]:\n",
    "        y.append(GetIndexCharacter(c))\n",
    "    # We add the End of String Element\n",
    "    y += [n_characters - 1]\n",
    "    x = text_to_one_hot_vector(text)\n",
    "    \n",
    "    if zero_padding:\n",
    "        if len(text) < max_length:\n",
    "            y += [n_characters - 1] * (max_length - len(text))\n",
    "            x += [[0] * n_characters] * (max_length - len(text))\n",
    "    return x, y"
   ]
  },
  {
   "cell_type": "code",
   "execution_count": null,
   "metadata": {},
   "outputs": [],
   "source": []
  },
  {
   "cell_type": "code",
   "execution_count": null,
   "metadata": {},
   "outputs": [],
   "source": [
    "def data_to_batch(data, batch_size):\n",
    "    source, target = [], []\n",
    "    for i, text in enumerate(data):\n",
    "        x, y = text_to_input(text)\n",
    "        source.append(x)\n",
    "        target.append(y)\n",
    "    \n",
    "    train = TensorDataset(torch.Tensor(source), torch.LongTensor(target))\n",
    "    train_loader = DataLoader(train, batch_size=batch_size, shuffle=True)\n",
    "    return train_loader"
   ]
  },
  {
   "cell_type": "code",
   "execution_count": null,
   "metadata": {},
   "outputs": [],
   "source": [
    "batch = 32\n",
    "train_loader = data_to_batch(data_text, batch)"
   ]
  },
  {
   "cell_type": "markdown",
   "metadata": {},
   "source": [
    "## Our Class Model"
   ]
  },
  {
   "cell_type": "code",
   "execution_count": null,
   "metadata": {},
   "outputs": [],
   "source": [
    "class RNN(nn.Module):\n",
    "    def __init__(self, \n",
    "                 input_size, \n",
    "                 hidden_size, \n",
    "                 output_size, \n",
    "                 num_layers=1,\n",
    "                 bidirectional=False,\n",
    "                 model_type=\"RNN\",\n",
    "                 batch_size=32,\n",
    "                 dropout=0.5):\n",
    "        \n",
    "        super(RNN, self).__init__()\n",
    "        self.input_size = input_size\n",
    "        self.hidden_size = hidden_size\n",
    "        self.output_size = output_size\n",
    "        self.num_layers = num_layers\n",
    "        self.bidirectional = bidirectional\n",
    "        self.model_type = model_type\n",
    "        self.dropout = dropout\n",
    "        self.batch_size = batch_size\n",
    "        \n",
    "        \n",
    "        self.rnn = getattr(nn, model_type)(input_size, \n",
    "                                           hidden_size, \n",
    "                                           num_layers=num_layers,\n",
    "                                           dropout=dropout,\n",
    "                                           bidirectional=bidirectional,\n",
    "                                           batch_first=True)\n",
    "        self.decoder = nn.Linear(hidden_size, output_size)\n",
    "    \n",
    "    def forward(self, x, hidden):\n",
    "        output, hidden = self.rnn(x, hidden)\n",
    "        output = self.decoder(output)\n",
    "        output = torch.nn.functional.softmax(output)\n",
    "        return output, hidden\n",
    "\n",
    "    def init_hidden(self):\n",
    "        return Variable(torch.zeros(self.num_layers, self.batch_size, self.hidden_size))"
   ]
  },
  {
   "cell_type": "markdown",
   "metadata": {},
   "source": [
    "## Functions Training"
   ]
  },
  {
   "cell_type": "code",
   "execution_count": null,
   "metadata": {},
   "outputs": [],
   "source": [
    "def int_to_one_hot_vectors(i, length):\n",
    "    tensor = [[0] * length]\n",
    "    tensor[0][i] = 1\n",
    "    return Variable(torch.Tensor(tensor))"
   ]
  },
  {
   "cell_type": "code",
   "execution_count": null,
   "metadata": {},
   "outputs": [],
   "source": [
    "def train(x, y):\n",
    "    hidden = hidden_init\n",
    "    rnn.zero_grad()\n",
    "    loss = 0\n",
    "\n",
    "    for i, elem in enumerate(x):\n",
    "        output, hidden = rnn(elem, hidden)\n",
    "        y_tensor = int_to_one_hot_vectors(y[i].data.tolist()[0], n_characters)\n",
    "        loss += criterion(output, y_tensor)\n",
    "        \n",
    "    loss.backward()\n",
    "    optimizer.step()\n",
    "    return loss.data[0] / x.size()[0]"
   ]
  },
  {
   "cell_type": "markdown",
   "metadata": {},
   "source": [
    "## Generate Words"
   ]
  },
  {
   "cell_type": "code",
   "execution_count": null,
   "metadata": {},
   "outputs": [],
   "source": [
    "def generate(text_start, predict_len=100):\n",
    "    hidden = Variable(torch.zeros(1, 1, rnn.hidden_size))   \n",
    "    start_input, start_expected = text_to_input(text_start, zero_padding=False)\n",
    "    \n",
    "    start_input = Variable(torch.Tensor(start_input)).unsqueeze(0)\n",
    "    start_expected = Variable(torch.Tensor(start_expected))\n",
    "\n",
    "    # We start by learning the hidden layer from the start text\n",
    "    output, hidden = rnn(start_input, hidden)\n",
    "    top_i = torch.topk(output, 1)[1].data.tolist()[0][0][0]\n",
    "    print(top_i)\n",
    "    predicted_char = list_characters[top_i]\n",
    "    i = 0\n",
    "    print(output[:][:][-1].size())\n",
    "    predicted = text_start + predicted_char\n",
    "    while predicted_char != EOS and i < predict_len:\n",
    "        output, hidden = rnn(output[:][:][-1], hidden)\n",
    " \n",
    "        top_i = torch.topk(output, 1)[1].data.tolist()[0][0][0]\n",
    "        \n",
    "        # Add predicted character to string and use as next input\n",
    "        predicted_char = list_characters[top_i]\n",
    "        predicted += predicted_char\n",
    "        i += 1\n",
    "        \n",
    "    return predicted"
   ]
  },
  {
   "cell_type": "markdown",
   "metadata": {},
   "source": [
    "## Start training"
   ]
  },
  {
   "cell_type": "code",
   "execution_count": null,
   "metadata": {},
   "outputs": [],
   "source": [
    "rnn = RNN(input_size=n_characters, \n",
    "          hidden_size=200, \n",
    "          output_size=n_characters, \n",
    "          num_layers=3,\n",
    "          bidirectional=False,\n",
    "          model_type=\"RNN\",\n",
    "          batch_size=batch,\n",
    "          dropout=0.5)"
   ]
  },
  {
   "cell_type": "code",
   "execution_count": null,
   "metadata": {},
   "outputs": [],
   "source": [
    "hidden_init = rnn.init_hidden()"
   ]
  },
  {
   "cell_type": "code",
   "execution_count": null,
   "metadata": {
    "scrolled": true
   },
   "outputs": [],
   "source": [
    "n_epochs = 10\n",
    "print_every = 1000\n",
    "plot_every = 100\n",
    "\n",
    "all_losses = []\n",
    "loss_avg = 0\n",
    "\n",
    "optimizer = torch.optim.Adam(rnn.parameters(), lr=0.1)\n",
    "criterion = nn.CrossEntropyLoss()\n",
    "\n",
    "for epoch in range(0, n_epochs):\n",
    "    print('Epochs: {}'.format(epoch))\n",
    "    for data, target in tqdm.tqdm(train_loader):\n",
    "        try:\n",
    "            data = Variable(data)\n",
    "            target = Variable(target)\n",
    "            optimizer.zero_grad()\n",
    "            y_pred, hidden = rnn(data, hidden_init)\n",
    "\n",
    "            loss = 0\n",
    "            for i, elem in enumerate(y_pred):\n",
    "                loss += criterion(elem, target[i])\n",
    "            all_losses.append(loss / batch)\n",
    "\n",
    "            loss.backward()\n",
    "            optimizer.step()\n",
    "            print(generate(\"je\"))\n",
    "        except:\n",
    "            print(\"Fuck\")\n",
    "\n",
    "    loss_avg = 0"
   ]
  },
  {
   "cell_type": "markdown",
   "metadata": {},
   "source": [
    "# Plotting the Training Losses\n",
    "\n",
    "Plotting the historical loss from all_losses shows the network learning:"
   ]
  },
  {
   "cell_type": "code",
   "execution_count": null,
   "metadata": {},
   "outputs": [],
   "source": [
    "import matplotlib.pyplot as plt\n",
    "import matplotlib.ticker as ticker\n",
    "%matplotlib inline\n",
    "\n",
    "plt.figure()\n",
    "plt.plot(all_losses)"
   ]
  },
  {
   "cell_type": "code",
   "execution_count": null,
   "metadata": {},
   "outputs": [],
   "source": [
    "loss = nn.MSELoss()\n",
    "input = Variable(torch.randn(3, 5), requires_grad=True)\n",
    "target = Variable(torch.randn(3, 5))\n",
    "output = loss(input, target)\n",
    "output.backward()"
   ]
  },
  {
   "cell_type": "markdown",
   "metadata": {
    "collapsed": true
   },
   "source": [
    "# Exercises\n",
    "\n",
    "* Train with your own dataset, e.g.\n",
    "    * Text from another author\n",
    "    * Blog posts\n",
    "    * Code\n",
    "* Increase number of layers and network size to get better results"
   ]
  }
 ],
 "metadata": {
  "anaconda-cloud": {},
  "kernelspec": {
   "display_name": "Python 3",
   "language": "python",
   "name": "python3"
  },
  "language_info": {
   "codemirror_mode": {
    "name": "ipython",
    "version": 3
   },
   "file_extension": ".py",
   "mimetype": "text/x-python",
   "name": "python",
   "nbconvert_exporter": "python",
   "pygments_lexer": "ipython3",
   "version": "3.4.3"
  }
 },
 "nbformat": 4,
 "nbformat_minor": 1
}
